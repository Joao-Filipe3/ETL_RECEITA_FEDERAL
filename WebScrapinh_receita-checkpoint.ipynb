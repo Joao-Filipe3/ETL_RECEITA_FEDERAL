{
 "cells": [
  {
   "cell_type": "code",
   "execution_count": 11,
   "id": "d377ca1a-9aa6-47fb-a7ef-c9ff9c1862f6",
   "metadata": {},
   "outputs": [],
   "source": [
    "import requests\n",
    "from bs4 import BeautifulSoup"
   ]
  },
  {
   "cell_type": "code",
   "execution_count": 5,
   "id": "c0ec0062-428b-4ac0-906b-3c45d4ce490d",
   "metadata": {},
   "outputs": [],
   "source": [
    "# requisitando o site da receita para pegar os dados\n",
    "req_data = requests.get(\"https://arquivos.receitafederal.gov.br/dados/cnpj/dados_abertos_cnpj/2025-05/\")"
   ]
  },
  {
   "cell_type": "code",
   "execution_count": 7,
   "id": "cc5bbe8f-2099-4bd4-bb83-decc9309b658",
   "metadata": {},
   "outputs": [
    {
     "data": {
      "text/plain": [
       "<Response [200]>"
      ]
     },
     "execution_count": 7,
     "metadata": {},
     "output_type": "execute_result"
    }
   ],
   "source": [
    "req_data"
   ]
  },
  {
   "cell_type": "code",
   "execution_count": 15,
   "id": "8682afc4-c8ec-4d38-b2c4-0fe1a5b88712",
   "metadata": {},
   "outputs": [],
   "source": [
    "# manipular o HTML pelo Beatiful Soup\n",
    "soup = BeautifulSoup(req_data.text,'html.parser')"
   ]
  },
  {
   "cell_type": "code",
   "execution_count": 34,
   "id": "fc731fa6-094a-42a5-be62-767af538c99d",
   "metadata": {},
   "outputs": [],
   "source": [
    "# usando o soup encontrar o atributo href com o nome de empresas0.zip (encontrar no inspecionar)\n",
    "#next vai pro proximo elemento até chegar na data, strip tira o espaco do inicio e final\n",
    "\n",
    "date_rf = soup.find('a', attrs={'href':'Empresas0.zip'}).next.next.next.text.strip()"
   ]
  },
  {
   "cell_type": "code",
   "execution_count": 36,
   "id": "f0aa6a87-a6b9-4bf4-9703-385f1e3dc4ef",
   "metadata": {},
   "outputs": [
    {
     "data": {
      "text/plain": [
       "'2025-05-12 01:15'"
      ]
     },
     "execution_count": 36,
     "metadata": {},
     "output_type": "execute_result"
    }
   ],
   "source": [
    "date_rf"
   ]
  },
  {
   "cell_type": "code",
   "execution_count": 38,
   "id": "8ab1854f-dfec-4afc-8b6f-6eeb6ef10948",
   "metadata": {},
   "outputs": [],
   "source": [
    "data_processamento = '2025-06-03'"
   ]
  },
  {
   "cell_type": "code",
   "execution_count": 40,
   "id": "c71f5896-f0f6-49a8-8c8b-a8ccc033215c",
   "metadata": {},
   "outputs": [
    {
     "data": {
      "text/plain": [
       "'06'"
      ]
     },
     "execution_count": 40,
     "metadata": {},
     "output_type": "execute_result"
    }
   ],
   "source": [
    "data_processamento[5:7]"
   ]
  },
  {
   "cell_type": "code",
   "execution_count": 44,
   "id": "be3ae226-c9cd-4292-b922-147838f7cb9c",
   "metadata": {},
   "outputs": [
    {
     "name": "stdout",
     "output_type": "stream",
     "text": [
      " Data invalida para extracao\n",
      " Data precessamento: 2025-06-03 \n",
      " Data Receita: 2025-05-12 01:15\n"
     ]
    }
   ],
   "source": [
    "if data_processamento[5:7] != date_rf:\n",
    "    print(\" Data invalida para extracao\")\n",
    "    print(f\" Data precessamento: {data_processamento} \\n Data Receita: {date_rf}\")"
   ]
  },
  {
   "cell_type": "code",
   "execution_count": null,
   "id": "3f3c8dec-d8fb-430c-be55-0f86d9793a88",
   "metadata": {},
   "outputs": [],
   "source": []
  }
 ],
 "metadata": {
  "kernelspec": {
   "display_name": "Python [conda env:base] *",
   "language": "python",
   "name": "conda-base-py"
  },
  "language_info": {
   "codemirror_mode": {
    "name": "ipython",
    "version": 3
   },
   "file_extension": ".py",
   "mimetype": "text/x-python",
   "name": "python",
   "nbconvert_exporter": "python",
   "pygments_lexer": "ipython3",
   "version": "3.12.7"
  }
 },
 "nbformat": 4,
 "nbformat_minor": 5
}
